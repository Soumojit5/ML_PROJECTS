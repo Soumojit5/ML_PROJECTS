{
  "nbformat": 4,
  "nbformat_minor": 0,
  "metadata": {
    "colab": {
      "name": "Sentiment_analysis.ipynb",
      "provenance": []
    },
    "kernelspec": {
      "name": "python3",
      "display_name": "Python 3"
    },
    "language_info": {
      "name": "python"
    }
  },
  "cells": [
    {
      "cell_type": "code",
      "metadata": {
        "id": "sUJnpBO25ypz"
      },
      "source": [
        "# Importing necessary libraries\n",
        "import numpy as np\n",
        "import pandas as pd\n",
        "import matplotlib.pyplot as plt\n",
        "import json\n",
        "import random\n",
        "import seaborn"
      ],
      "execution_count": 1,
      "outputs": []
    },
    {
      "cell_type": "code",
      "metadata": {
        "id": "tqaqYTbh6NVQ"
      },
      "source": [
        "# Defining Classes\n",
        "\n",
        "class Sentiment:\n",
        "  positive = \"POSITIVE\"\n",
        "  negative = \"NEGATIVE\"\n",
        "class Review:\n",
        "  def __init__(self,text,score):\n",
        "    self.text = text\n",
        "    self.score = score\n",
        "    self.sentiment = self.get_sentiment()\n",
        "  def get_sentiment(self):\n",
        "    if self.score<3:\n",
        "      return sentiment.negative\n",
        "    else:\n",
        "      return sentiment.positive\n",
        "class Review_container:\n",
        "  def __init__(self,reviews):\n",
        "    self.reviews = reviews\n",
        "  def even_distribution(self):\n",
        "    negative = list(filter(lambda x:x.sentiment == Sentiment.negative,self.reviews ))\n",
        "    positive = list(filter(lambda x:x.sentiment == Sentiment.positive,self.reviews ))\n",
        "    # as data contains more positive than negative, we have to cut it short so that both gets same no. of example \n",
        "    shrunk_positive = positive[:len(negative)]\n",
        "    self.reviews = negative + shrunk_positive\n",
        "    random.shuffle(self.reviews)\n",
        "\n",
        "\n"
      ],
      "execution_count": 18,
      "outputs": []
    },
    {
      "cell_type": "code",
      "metadata": {
        "colab": {
          "base_uri": "https://localhost:8080/",
          "height": 54
        },
        "id": "hgHwL5Mv6osi",
        "outputId": "64dddd0e-5931-4267-b7ab-f8f1957e5c65"
      },
      "source": [
        "# LOADING and UNDERSTANDING the DATA:\n",
        "reviews = []\n",
        "with open(\"Books_small_10000.json\") as f:\n",
        "  for line in f:\n",
        "    review_json = json.loads(line)\n",
        "    review = Review(review_json[\"reviewText\"],review_json[\"overall\"])\n",
        "    reviews.append(review)\n",
        "reviews[7].text\n",
        "# reviews[5].score\n",
        "\n",
        "    "
      ],
      "execution_count": 14,
      "outputs": [
        {
          "output_type": "execute_result",
          "data": {
            "application/vnd.google.colaboratory.intrinsic+json": {
              "type": "string"
            },
            "text/plain": [
              "\"This is the First book in the Trilogy, and I'm looking forward to reading the second book.  I liked how the main characters interacted with famous characters in western history.\""
            ]
          },
          "metadata": {},
          "execution_count": 14
        }
      ]
    },
    {
      "cell_type": "code",
      "metadata": {
        "id": "4j0M2TcIEQ2g"
      },
      "source": [
        "from sklearn.model_selection import train_test_split\n",
        "train_data,test_data = train_test_split(reviews,test_size = 0.33)\n",
        "\n",
        "# Equally Distributing The train and Testing data w.r.t label\n",
        "train_container = Review_container(train_data)\n",
        "train_container.even_distribution()\n",
        "test_container = Review_container(test_data)\n",
        "test_container.even_distribution()"
      ],
      "execution_count": 24,
      "outputs": []
    },
    {
      "cell_type": "code",
      "metadata": {
        "colab": {
          "base_uri": "https://localhost:8080/"
        },
        "id": "5oSvCf-TIAVN",
        "outputId": "17552b51-4c59-4df4-d17b-11f5f7b3349e"
      },
      "source": [
        "# Splitting data\n",
        "x_train = [x.text for x in train_container.reviews]\n",
        "x_test = [x.text for x in test_container.reviews]\n",
        "y_train = [y.sentiment for y in train_container.reviews]\n",
        "y_test = [y.sentiment for y in test_container.reviews]\n",
        "y_train.count(sentiment.positive)\n",
        "y_train.count(sentiment.negative)"
      ],
      "execution_count": 26,
      "outputs": [
        {
          "output_type": "execute_result",
          "data": {
            "text/plain": [
              "430"
            ]
          },
          "metadata": {},
          "execution_count": 26
        }
      ]
    },
    {
      "cell_type": "code",
      "metadata": {
        "id": "fLLokO4NKCOc"
      },
      "source": [
        "# here we are using tfidf vectorizer to extract feature as its more suitable than count vectorizer\n",
        "from sklearn.feature_extraction.text import TfidfVectorizer\n",
        "vectorizer = TfidfVectorizer()\n",
        "x_train_vector =vectorizer.fit_transform( x_train) \n",
        "x_test_vector =vectorizer.transform( x_test) "
      ],
      "execution_count": 28,
      "outputs": []
    },
    {
      "cell_type": "markdown",
      "metadata": {
        "id": "iM60uZF2MC2u"
      },
      "source": [
        "We are gonna use 3 different algothims:"
      ]
    },
    {
      "cell_type": "code",
      "metadata": {
        "colab": {
          "base_uri": "https://localhost:8080/"
        },
        "id": "_0CQCcL9LBVg",
        "outputId": "d2124a29-3713-4d67-e3fc-db65b9cab6d8"
      },
      "source": [
        "# using SVM(Support Vector Machines) to predict and accuracy score and f1 score to evaluate the accuracy\n",
        "from sklearn.svm import SVC\n",
        "svm_classifier = SVC()\n",
        "svm_classifier.fit(x_train_vector,y_train)\n",
        "y_pred = svm_classifier.predict(x_test_vector)\n",
        "\n",
        "from sklearn.metrics import accuracy_score, f1_score \n",
        "svm_accuracy = (accuracy_score(y_test,y_pred)*100)\n",
        "print(svm_accuracy)\n",
        "print(f1_score(y_test,y_pred,average = None, labels = [Sentiment.negative,Sentiment.positive]))\n",
        "\n"
      ],
      "execution_count": 31,
      "outputs": [
        {
          "output_type": "stream",
          "text": [
            "82.94392523364486\n",
            "[0.83371298 0.82494005]\n"
          ],
          "name": "stdout"
        }
      ]
    },
    {
      "cell_type": "code",
      "metadata": {
        "colab": {
          "base_uri": "https://localhost:8080/"
        },
        "id": "YPNyefZaOBUJ",
        "outputId": "7b5d2444-6abc-4831-9f19-1b3d73c34773"
      },
      "source": [
        "# Using Decision Tree to predict the model\n",
        "from sklearn.tree import DecisionTreeClassifier\n",
        "d_tree = DecisionTreeClassifier()\n",
        "d_tree.fit(x_train_vector,y_train)\n",
        "y_pred2 = d_tree.predict(x_test_vector,y_test)\n",
        "\n",
        "from sklearn.metrics import accuracy_score, f1_score \n",
        "dtree_accuracy = (accuracy_score(y_test,y_pred2)*100)\n",
        "print(dtree_accuracy)\n",
        "print(f1_score(y_test,y_pred2,average = None, labels = [Sentiment.negative,Sentiment.positive]))"
      ],
      "execution_count": 34,
      "outputs": [
        {
          "output_type": "stream",
          "text": [
            "63.084112149532714\n",
            "[0.61463415 0.64573991]\n"
          ],
          "name": "stdout"
        }
      ]
    },
    {
      "cell_type": "code",
      "metadata": {
        "colab": {
          "base_uri": "https://localhost:8080/"
        },
        "id": "qUh1Y0kFPOHn",
        "outputId": "7833cd3c-65d2-463e-82cb-9bf0644c5944"
      },
      "source": [
        "# Using Logistic Regression to predict the model\n",
        "from sklearn.linear_model import LogisticRegression\n",
        "l_reg = LogisticRegression()\n",
        "l_reg.fit(x_train_vector,y_train)\n",
        "y_pred3 = l_reg.predict(x_test_vector)\n",
        "\n",
        "from sklearn.metrics import accuracy_score, f1_score \n",
        "lreg_accuracy = (accuracy_score(y_test,y_pred3)*100)\n",
        "print(lreg_accuracy)\n",
        "print(f1_score(y_test,y_pred3,average = None, labels = [Sentiment.negative,Sentiment.positive]))"
      ],
      "execution_count": 39,
      "outputs": [
        {
          "output_type": "stream",
          "text": [
            "84.57943925233646\n",
            "[0.84862385 0.84285714]\n"
          ],
          "name": "stdout"
        }
      ]
    },
    {
      "cell_type": "code",
      "metadata": {
        "colab": {
          "base_uri": "https://localhost:8080/"
        },
        "id": "z7dDbhJCRj_B",
        "outputId": "b42cba89-c7bd-4dd5-e967-a2100393dddd"
      },
      "source": [
        "# predicting using different models on random data\n",
        "svm_classifier.predict(vectorizer.transform([\"good one\",\"nice\",\"not very good\",\"not so sure\",\"i love it\"]))\n",
        "d_tree.predict(vectorizer.transform([\"good one\",\"nice\",\"not very good\",\"not so sure\",\"i love it\"]))\n",
        "l_reg.predict(vectorizer.transform([\"good one\",\"nice\",\"not very good\",\"not so sure\",\"i love it\"]))"
      ],
      "execution_count": 51,
      "outputs": [
        {
          "output_type": "execute_result",
          "data": {
            "text/plain": [
              "array(['NEGATIVE'], dtype='<U8')"
            ]
          },
          "metadata": {},
          "execution_count": 51
        }
      ]
    }
  ]
}